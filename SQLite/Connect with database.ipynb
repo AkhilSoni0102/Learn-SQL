{
 "cells": [
  {
   "cell_type": "code",
   "execution_count": 1,
   "id": "e35e0a21",
   "metadata": {},
   "outputs": [],
   "source": [
    "import sqlite3"
   ]
  },
  {
   "cell_type": "code",
   "execution_count": 2,
   "id": "bcec3e3c",
   "metadata": {},
   "outputs": [
    {
     "data": {
      "text/plain": [
       "<sqlite3.Connection at 0x1d5e788d210>"
      ]
     },
     "execution_count": 2,
     "metadata": {},
     "output_type": "execute_result"
    }
   ],
   "source": [
    "db = sqlite3.connect('IMDB.sqlite')\n",
    "db"
   ]
  },
  {
   "cell_type": "code",
   "execution_count": 3,
   "id": "8395cfa7",
   "metadata": {},
   "outputs": [],
   "source": [
    "db =sqlite3.connect('IMDB1.sqlite')"
   ]
  },
  {
   "cell_type": "code",
   "execution_count": 4,
   "id": "9ddc20a1",
   "metadata": {},
   "outputs": [
    {
     "data": {
      "text/plain": [
       "<sqlite3.Connection at 0x1d5e788d4e0>"
      ]
     },
     "execution_count": 4,
     "metadata": {},
     "output_type": "execute_result"
    }
   ],
   "source": [
    "db"
   ]
  },
  {
   "cell_type": "code",
   "execution_count": 5,
   "id": "a4518906",
   "metadata": {},
   "outputs": [
    {
     "data": {
      "text/plain": [
       "<sqlite3.Connection at 0x1d5e788d5d0>"
      ]
     },
     "execution_count": 5,
     "metadata": {},
     "output_type": "execute_result"
    }
   ],
   "source": [
    "db = sqlite3.connect('School.sqlite')\n",
    "db"
   ]
  },
  {
   "cell_type": "code",
   "execution_count": 6,
   "id": "c50e264a",
   "metadata": {},
   "outputs": [
    {
     "data": {
      "text/plain": [
       "<sqlite3.Cursor at 0x1d5e783d9d0>"
      ]
     },
     "execution_count": 6,
     "metadata": {},
     "output_type": "execute_result"
    }
   ],
   "source": [
    "cur = db.cursor()\n",
    "cur"
   ]
  },
  {
   "cell_type": "code",
   "execution_count": 7,
   "id": "065d60dc",
   "metadata": {},
   "outputs": [
    {
     "data": {
      "text/plain": [
       "<sqlite3.Cursor at 0x1d5e783d9d0>"
      ]
     },
     "execution_count": 7,
     "metadata": {},
     "output_type": "execute_result"
    }
   ],
   "source": [
    "sql_query = 'Create table Student(RollNumber int Primary Key, name text, Age int)'\n",
    "cur.execute(sql_query)"
   ]
  },
  {
   "cell_type": "code",
   "execution_count": 8,
   "id": "8c87c321",
   "metadata": {},
   "outputs": [
    {
     "data": {
      "text/plain": [
       "<sqlite3.Cursor at 0x1d5e783d9d0>"
      ]
     },
     "execution_count": 8,
     "metadata": {},
     "output_type": "execute_result"
    }
   ],
   "source": [
    "cur.execute('insert into Student values(101,\"AMAN\",20)')"
   ]
  },
  {
   "cell_type": "code",
   "execution_count": 9,
   "id": "282e427f",
   "metadata": {},
   "outputs": [
    {
     "ename": "AttributeError",
     "evalue": "'sqlite3.Cursor' object has no attribute 'commit'",
     "output_type": "error",
     "traceback": [
      "\u001b[1;31m---------------------------------------------------------------------------\u001b[0m",
      "\u001b[1;31mAttributeError\u001b[0m                            Traceback (most recent call last)",
      "\u001b[1;32m<ipython-input-9-5f9fa7ab84b4>\u001b[0m in \u001b[0;36m<module>\u001b[1;34m\u001b[0m\n\u001b[1;32m----> 1\u001b[1;33m \u001b[0mcur\u001b[0m\u001b[1;33m.\u001b[0m\u001b[0mcommit\u001b[0m\u001b[1;33m(\u001b[0m\u001b[1;33m)\u001b[0m\u001b[1;33m\u001b[0m\u001b[1;33m\u001b[0m\u001b[0m\n\u001b[0m",
      "\u001b[1;31mAttributeError\u001b[0m: 'sqlite3.Cursor' object has no attribute 'commit'"
     ]
    }
   ],
   "source": [
    "cur.commit()"
   ]
  },
  {
   "cell_type": "code",
   "execution_count": 10,
   "id": "f63caa0a",
   "metadata": {},
   "outputs": [],
   "source": [
    "db.commit()"
   ]
  },
  {
   "cell_type": "code",
   "execution_count": 11,
   "id": "95aefef1",
   "metadata": {},
   "outputs": [
    {
     "ename": "IntegrityError",
     "evalue": "UNIQUE constraint failed: Student.RollNumber",
     "output_type": "error",
     "traceback": [
      "\u001b[1;31m---------------------------------------------------------------------------\u001b[0m",
      "\u001b[1;31mIntegrityError\u001b[0m                            Traceback (most recent call last)",
      "\u001b[1;32m<ipython-input-11-213e96a97c09>\u001b[0m in \u001b[0;36m<module>\u001b[1;34m\u001b[0m\n\u001b[1;32m----> 1\u001b[1;33m \u001b[0mcur\u001b[0m\u001b[1;33m.\u001b[0m\u001b[0mexecute\u001b[0m\u001b[1;33m(\u001b[0m\u001b[1;34m'insert into Student values(101, \"Amit\", 20)'\u001b[0m\u001b[1;33m)\u001b[0m\u001b[1;33m\u001b[0m\u001b[1;33m\u001b[0m\u001b[0m\n\u001b[0m",
      "\u001b[1;31mIntegrityError\u001b[0m: UNIQUE constraint failed: Student.RollNumber"
     ]
    }
   ],
   "source": [
    "cur.execute('insert into Student values(101, \"Amit\", 20)')"
   ]
  },
  {
   "cell_type": "code",
   "execution_count": 13,
   "id": "3150234b",
   "metadata": {},
   "outputs": [
    {
     "data": {
      "text/plain": [
       "<sqlite3.Cursor at 0x1d5e783d9d0>"
      ]
     },
     "execution_count": 13,
     "metadata": {},
     "output_type": "execute_result"
    }
   ],
   "source": [
    "cur.execute('insert into Student values(102, \"Aman\", 30)')"
   ]
  },
  {
   "cell_type": "code",
   "execution_count": 14,
   "id": "5c1eeb18",
   "metadata": {},
   "outputs": [],
   "source": [
    "db.commit()"
   ]
  },
  {
   "cell_type": "code",
   "execution_count": 15,
   "id": "6a98a480",
   "metadata": {},
   "outputs": [],
   "source": [
    "db.close()"
   ]
  },
  {
   "cell_type": "code",
   "execution_count": null,
   "id": "546c2c57",
   "metadata": {},
   "outputs": [],
   "source": []
  }
 ],
 "metadata": {
  "kernelspec": {
   "display_name": "Python 3",
   "language": "python",
   "name": "python3"
  },
  "language_info": {
   "codemirror_mode": {
    "name": "ipython",
    "version": 3
   },
   "file_extension": ".py",
   "mimetype": "text/x-python",
   "name": "python",
   "nbconvert_exporter": "python",
   "pygments_lexer": "ipython3",
   "version": "3.8.8"
  }
 },
 "nbformat": 4,
 "nbformat_minor": 5
}
