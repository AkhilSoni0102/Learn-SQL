{
 "cells": [
  {
   "cell_type": "code",
   "execution_count": 1,
   "id": "b3d40f6f",
   "metadata": {},
   "outputs": [],
   "source": [
    "import sqlite3"
   ]
  },
  {
   "cell_type": "code",
   "execution_count": 2,
   "id": "9a4bf6f3",
   "metadata": {},
   "outputs": [],
   "source": [
    "db = sqlite3.connect('School.sqlite')\n",
    "cur = db.cursor()"
   ]
  },
  {
   "cell_type": "code",
   "execution_count": 3,
   "id": "1f83c9ed",
   "metadata": {},
   "outputs": [
    {
     "data": {
      "text/plain": [
       "<sqlite3.Cursor at 0x1adeb06d810>"
      ]
     },
     "execution_count": 3,
     "metadata": {},
     "output_type": "execute_result"
    }
   ],
   "source": [
    "cur.execute('select * from Student')"
   ]
  },
  {
   "cell_type": "code",
   "execution_count": 4,
   "id": "781c6a7e",
   "metadata": {},
   "outputs": [
    {
     "name": "stdout",
     "output_type": "stream",
     "text": [
      "(101, 'AMAN', 30)\n",
      "(102, 'Aman', 20)\n",
      "(103, 'Mohit', 50)\n",
      "(104, 'Nikhil', 30)\n",
      "(105, 'Nidhi', 30)\n",
      "(106, 'Manisha', 30)\n",
      "(107, 'Ankush', 30)\n"
     ]
    }
   ],
   "source": [
    "for row in cur:\n",
    "    print (row)"
   ]
  },
  {
   "cell_type": "markdown",
   "id": "f3144c22",
   "metadata": {},
   "source": [
    "## Methods to fetch data from the table:\n",
    "    1. fetchone()\n",
    "    2. fetchmany()\n",
    "    3. fetchall()"
   ]
  },
  {
   "cell_type": "code",
   "execution_count": 5,
   "id": "6ed3855f",
   "metadata": {},
   "outputs": [
    {
     "data": {
      "text/plain": [
       "(101, 'AMAN', 30)"
      ]
     },
     "execution_count": 5,
     "metadata": {},
     "output_type": "execute_result"
    }
   ],
   "source": [
    "cur.execute('select * from Student')\n",
    "cur.fetchone()"
   ]
  },
  {
   "cell_type": "code",
   "execution_count": 6,
   "id": "87476f1b",
   "metadata": {},
   "outputs": [
    {
     "data": {
      "text/plain": [
       "[(102, 'Aman', 20), (103, 'Mohit', 50), (104, 'Nikhil', 30)]"
      ]
     },
     "execution_count": 6,
     "metadata": {},
     "output_type": "execute_result"
    }
   ],
   "source": [
    "cur.fetchmany(3)"
   ]
  },
  {
   "cell_type": "code",
   "execution_count": 7,
   "id": "3d5a313c",
   "metadata": {},
   "outputs": [
    {
     "data": {
      "text/plain": [
       "[(105, 'Nidhi', 30), (106, 'Manisha', 30), (107, 'Ankush', 30)]"
      ]
     },
     "execution_count": 7,
     "metadata": {},
     "output_type": "execute_result"
    }
   ],
   "source": [
    "cur.fetchall()"
   ]
  },
  {
   "cell_type": "code",
   "execution_count": 8,
   "id": "c3911ec1",
   "metadata": {},
   "outputs": [
    {
     "data": {
      "text/plain": [
       "[(101, 'AMAN', 30),\n",
       " (102, 'Aman', 20),\n",
       " (103, 'Mohit', 50),\n",
       " (104, 'Nikhil', 30),\n",
       " (105, 'Nidhi', 30),\n",
       " (106, 'Manisha', 30),\n",
       " (107, 'Ankush', 30)]"
      ]
     },
     "execution_count": 8,
     "metadata": {},
     "output_type": "execute_result"
    }
   ],
   "source": [
    "cur.execute('select * from Student')\n",
    "cur.fetchall()"
   ]
  },
  {
   "cell_type": "code",
   "execution_count": 9,
   "id": "1c5657c2",
   "metadata": {},
   "outputs": [
    {
     "name": "stdout",
     "output_type": "stream",
     "text": [
      "(101, 'AMAN', 30)\n",
      "(102, 'Aman', 20)\n"
     ]
    }
   ],
   "source": [
    "cur.execute('select * from Student')\n",
    "print(cur.fetchone())\n",
    "print(cur.fetchone())"
   ]
  },
  {
   "cell_type": "code",
   "execution_count": 10,
   "id": "4cf42e2f",
   "metadata": {},
   "outputs": [
    {
     "name": "stdout",
     "output_type": "stream",
     "text": [
      "[(101, 'AMAN', 30), (102, 'Aman', 20), (103, 'Mohit', 50), (104, 'Nikhil', 30)]\n"
     ]
    }
   ],
   "source": [
    "cur.execute('select * from Student')\n",
    "print(cur.fetchmany(4))"
   ]
  },
  {
   "cell_type": "code",
   "execution_count": 11,
   "id": "ac6eec26",
   "metadata": {},
   "outputs": [],
   "source": [
    "cur.execute('select * from Student')\n",
    "ans = cur.fetchall()"
   ]
  },
  {
   "cell_type": "code",
   "execution_count": 12,
   "id": "4c9815e6",
   "metadata": {},
   "outputs": [
    {
     "data": {
      "text/plain": [
       "[(101, 'AMAN', 30),\n",
       " (102, 'Aman', 20),\n",
       " (103, 'Mohit', 50),\n",
       " (104, 'Nikhil', 30),\n",
       " (105, 'Nidhi', 30),\n",
       " (106, 'Manisha', 30),\n",
       " (107, 'Ankush', 30)]"
      ]
     },
     "execution_count": 12,
     "metadata": {},
     "output_type": "execute_result"
    }
   ],
   "source": [
    "ans"
   ]
  },
  {
   "cell_type": "code",
   "execution_count": 13,
   "id": "eeb2b693",
   "metadata": {},
   "outputs": [],
   "source": [
    "db.close()"
   ]
  },
  {
   "cell_type": "code",
   "execution_count": null,
   "id": "c4e2780a",
   "metadata": {},
   "outputs": [],
   "source": []
  }
 ],
 "metadata": {
  "kernelspec": {
   "display_name": "Python 3",
   "language": "python",
   "name": "python3"
  },
  "language_info": {
   "codemirror_mode": {
    "name": "ipython",
    "version": 3
   },
   "file_extension": ".py",
   "mimetype": "text/x-python",
   "name": "python",
   "nbconvert_exporter": "python",
   "pygments_lexer": "ipython3",
   "version": "3.8.8"
  }
 },
 "nbformat": 4,
 "nbformat_minor": 5
}
